{
 "cells": [
  {
   "cell_type": "markdown",
   "id": "52b2b5ff",
   "metadata": {},
   "source": [
    "# Majoritarian Accuracy of Majority Voting \n",
    "This Jupyter Notebook demonstrates how the [agent-based model](https://doi.org/10.5281/zenodo.7767124) of majority voting works by walking you through the stages of the model. The agent-based model is an adaptation of the Condorcetian framework (see [Wikipedia](https://en.wikipedia.org/wiki/Condorcet%27s_jury_theorem) or [The Stanford Encyclopedia of Philosophy](https://plato.stanford.edu/archives/spr2023/entries/jury-theorems/)) which operationalizes the following (revised) assumptions:\n",
    "1. **The Assumption of Plural Interests.** For each agent, there exists some agent-relative measure of success or correctness – typically referred to as the agent’s interest or values. \n",
    "2.\t**The Group-relative Competence Assumption.** For each of the two groups (masses and elites), each member’s belief about the right alternative is true with probability greater than chance level.\n",
    "3. **The Social Influence Assumption.** (a) The initial beliefs of all voters are probabilistically independent (given the true state of the world). (b) The final beliefs of voters can be influenced by other voters. \n",
    "4. **The Sincerity Assumption.** All voters vote for the alternative they believe to be the right alternative.\n",
    "\n",
    "In particular, an instantiation of the agent-based model, called `Community`, consists of the following building blocks:\n",
    "- A set of agents $N$,\n",
    "- A partition of $N$ into elites $E$ and masses $M$,\n",
    "- Group-relative competences $p_e$ and $p_m$ (in $[0,1]$) for elites and masses, respectively,\n",
    "- For each agent $i \\in N$:\n",
    "    - Her membership in either the elites ($E$) or the masses ($M$),\n",
    "    - Her individual competence $p_i\\in [0,1]$ (which equals either $p_e$ or $p_m$, depending on the group she belongs to)\n",
    "    - Her social environment $S_i \\subseteq N$."
   ]
  },
  {
   "cell_type": "markdown",
   "id": "6b6c60a4",
   "metadata": {},
   "source": [
    "We start with loading some packages and scripts:"
   ]
  },
  {
   "cell_type": "code",
   "execution_count": 1,
   "id": "ffc86589",
   "metadata": {},
   "outputs": [],
   "source": [
    "%run scripts/notebook.py"
   ]
  },
  {
   "cell_type": "markdown",
   "id": "2b93b39f",
   "metadata": {},
   "source": [
    "## 1. A simple example\n",
    "### 1.0 Initial stage\n",
    "Let us start with considering a simple example of a community with only 20 agents. More explicitly, we set the parameters as follows:\n",
    "- A set of agents $N=\\{0, \\ldots, 19\\}$,\n",
    "- A partition of $N$ into elites $E=\\{0, \\ldots, 7\\}$ (hence $|E|=6$) and masses $M=\\{8, \\ldots, 19\\}$,\n",
    "- Group-relative competences $p_e=0.8$ and $p_m=0.6$ for elites and masses, respectively,\n",
    "- For each agent $i \\in N$:\n",
    "    - Her social environment $S_i \\subseteq N$ (where $|S_i|=6$). \n",
    "\n",
    "The simple community is depicted in the picture below. Let me explain the picture:\n",
    "- Nodes:\n",
    "    - The color of the nodes represents whether they are <font color=\"#FFC107\">elites</font> or <font color=\"#9C27B0\">masses</font>.\n",
    "    - The size is proportional to the in-degree, so that bigger nodes are more influential. In general, influential nodes are in the center of the picture.\n",
    "    - As a rule of thumb, the elites are more prone to be on the left-hand side of the network, while the masses are on the right-hand side. \n",
    "- Edges:\n",
    "    - The *edges* represent the agents' **social environments**: the social environment of an agent is the set of target nodes of all outgoing edges. Accordingly, every node has out-degree 6.\n",
    "    - The color of the edges represents whether the target nodes are <font color=\"#FFC107\">elites</font> or <font color=\"#9C27B0\">masses</font>.\n",
    "    - The network that is generated using preferential attachment and homophilic selection ($h$=0.7), but this is hardly visible in such small-scale communities.\n",
    "    \n",
    "All the pictures are **interactive**: you can move nodes around!"
   ]
  },
  {
   "cell_type": "code",
   "execution_count": 2,
   "id": "18dc9931",
   "metadata": {},
   "outputs": [
    {
     "name": "stdout",
     "output_type": "stream",
     "text": [
      "www/community_simple_initial.html\n"
     ]
    },
    {
     "data": {
      "text/html": [
       "\n",
       "        <iframe\n",
       "            width=\"100%\"\n",
       "            height=\"500px\"\n",
       "            src=\"www/community_simple_initial.html\"\n",
       "            frameborder=\"0\"\n",
       "            allowfullscreen\n",
       "            \n",
       "        ></iframe>\n",
       "        "
      ],
      "text/plain": [
       "<IPython.lib.display.IFrame at 0x18a9d6c55e0>"
      ]
     },
     "execution_count": 2,
     "metadata": {},
     "output_type": "execute_result"
    }
   ],
   "source": [
    "community_simple = Community(\n",
    "    number_of_nodes=20, \n",
    "    number_of_elites=8, \n",
    "    elite_competence=0.8, \n",
    "    mass_competence=0.6,\n",
    "    probability_homophilic_attachment=0.7,\n",
    ")\n",
    "community_simple.update_votes()\n",
    "visualize(community_simple, color_type=\"type\").show(\"www/community_simple_initial.html\")"
   ]
  },
  {
   "cell_type": "markdown",
   "id": "e6c02566",
   "metadata": {
    "scrolled": false
   },
   "source": [
    "### 1.1 Opinions and social influence\n",
    "In the first stage, the agents form their own individual opinion. Agent $i$'s individual competence $p_i$ expresses the probability that she forms the right opinion, i.e., that her beliefs about the alternative that is in her own best interest is *correct*. The color of the *nodes* represents whether their **opinion** favours the alternative that is in the best interest of the <font color=\"#FFC107\">elites</font> or <font color=\"#9C27B0\">masses</font>.\n",
    "\n",
    "In the second stage, the agents form their voting decision. Agent $i$'s voting decision is determined by her own opinion and the opinions of the agents in her social environment $S_i$. A node's (outgoing) *edges* represents its **social environment** and the colors of the *edges* represent the opinions of the target nodes.  \n",
    "\n",
    "Let's see how this goes in the simple community. Did anyone form the wrong opinion? Can you figure out why? Can you predict some of the voting decisions?"
   ]
  },
  {
   "cell_type": "code",
   "execution_count": 3,
   "id": "e621cb00",
   "metadata": {},
   "outputs": [
    {
     "name": "stdout",
     "output_type": "stream",
     "text": [
      "www/community_simple_opinions.html\n"
     ]
    },
    {
     "data": {
      "text/html": [
       "\n",
       "        <iframe\n",
       "            width=\"100%\"\n",
       "            height=\"500px\"\n",
       "            src=\"www/community_simple_opinions.html\"\n",
       "            frameborder=\"0\"\n",
       "            allowfullscreen\n",
       "            \n",
       "        ></iframe>\n",
       "        "
      ],
      "text/plain": [
       "<IPython.lib.display.IFrame at 0x18a9d68bac0>"
      ]
     },
     "execution_count": 3,
     "metadata": {},
     "output_type": "execute_result"
    }
   ],
   "source": [
    "visualize(com=community_simple, color_type=\"opinion\").show(\"www/community_simple_opinions.html\")"
   ]
  },
  {
   "cell_type": "markdown",
   "id": "69e8fc4c",
   "metadata": {},
   "source": [
    "### 1.2 Voting decisions\n",
    "Let us represent the voting decisions of the agents in this simple community. The color of the *nodes* represents whether their **vote** favours the alternative that is in the best interest of the <font color=\"#FFC107\">elites</font> or <font color=\"#9C27B0\">masses</font>.\n",
    "\n",
    "Let's see how this goes in the complex community. Did anyone form the wrong voting decision? Can you figure out why?"
   ]
  },
  {
   "cell_type": "code",
   "execution_count": 4,
   "id": "96db2e96",
   "metadata": {},
   "outputs": [
    {
     "name": "stdout",
     "output_type": "stream",
     "text": [
      "www/community_simple_votes.html\n"
     ]
    },
    {
     "data": {
      "text/html": [
       "\n",
       "        <iframe\n",
       "            width=\"100%\"\n",
       "            height=\"500px\"\n",
       "            src=\"www/community_simple_votes.html\"\n",
       "            frameborder=\"0\"\n",
       "            allowfullscreen\n",
       "            \n",
       "        ></iframe>\n",
       "        "
      ],
      "text/plain": [
       "<IPython.lib.display.IFrame at 0x18a9d6c74f0>"
      ]
     },
     "execution_count": 4,
     "metadata": {},
     "output_type": "execute_result"
    }
   ],
   "source": [
    "visualize(com=community_simple, color_type=\"vote\").show(\"www/community_simple_votes.html\")"
   ]
  },
  {
   "cell_type": "markdown",
   "id": "3957bf3a",
   "metadata": {},
   "source": [
    "### 1.3 The vote\n",
    "The outcome is probably no surprise to you at this point, but let's see the outcome of majority voting:"
   ]
  },
  {
   "cell_type": "code",
   "execution_count": 5,
   "id": "c671af81",
   "metadata": {},
   "outputs": [
    {
     "name": "stdout",
     "output_type": "stream",
     "text": [
      "Elites: 13 | Masses: 7\n"
     ]
    }
   ],
   "source": [
    "votes_for_elites = sum(\n",
    "    [1 for node in community_simple.nodes if community_simple.network.nodes[node][\"vote\"] == vote_for_elites]\n",
    ")\n",
    "votes_for_masses = community_simple.number_of_nodes - votes_for_elites\n",
    "print(f\"Elites: {votes_for_elites} | Masses: {votes_for_masses}\")"
   ]
  },
  {
   "cell_type": "markdown",
   "id": "ee0ffdf6",
   "metadata": {},
   "source": [
    "## 2. A more complex example\n",
    "### 2.0 Initial stage\n",
    "Let us now consider a bigger community with 100 agents, where 30 are elites. More explicitly, we set the parameters as follows:\n",
    "- A set of agents $N=\\{0, \\ldots, 90\\}$,\n",
    "- A partition of $N$ into elites $E=\\{0, \\ldots, 29\\}$ and masses $M=\\{30, \\ldots, 99\\}$,\n",
    "- Group-relative competences $p_e=0.8$ and $p_m=0.6$ for elites and masses, respectively,\n",
    "- For each agent $i \\in N$:\n",
    "    - Her social environment $S_i \\subseteq N$ (where $|S_i|=6$). \n",
    "\n",
    "The community is depicted in the picture below. Let me explain the colors in the picture:\n",
    "- Colors:\n",
    "    - The color of the *nodes* represents whether they are <font color=\"#FFC107\">elites</font> or <font color=\"#9C27B0\">masses</font>.\n",
    "    - The colors of the *edges* represent the color of the target nodes."
   ]
  },
  {
   "cell_type": "code",
   "execution_count": 6,
   "id": "ae88df01",
   "metadata": {},
   "outputs": [
    {
     "name": "stdout",
     "output_type": "stream",
     "text": [
      "www/community_complex_initial.html\n"
     ]
    },
    {
     "data": {
      "text/html": [
       "\n",
       "        <iframe\n",
       "            width=\"100%\"\n",
       "            height=\"500px\"\n",
       "            src=\"www/community_complex_initial.html\"\n",
       "            frameborder=\"0\"\n",
       "            allowfullscreen\n",
       "            \n",
       "        ></iframe>\n",
       "        "
      ],
      "text/plain": [
       "<IPython.lib.display.IFrame at 0x18a9d767ee0>"
      ]
     },
     "execution_count": 6,
     "metadata": {},
     "output_type": "execute_result"
    }
   ],
   "source": [
    "community = Community(\n",
    "    number_of_nodes=100, \n",
    "    number_of_elites=30, \n",
    "    elite_competence=0.8, \n",
    "    mass_competence=0.6,\n",
    "    probability_homophilic_attachment=0.7,\n",
    ")\n",
    "community.update_votes()\n",
    "visualize(community).show(\"www/community_complex_initial.html\")"
   ]
  },
  {
   "cell_type": "markdown",
   "id": "411a176d",
   "metadata": {},
   "source": [
    "The network is generated by homophilic selection ($h=0.7$) and by preferential attachment. You can roughly see that the network is generated by *preferential attachment* because most agents have little influence, while a few have a lot of influence. You can gauge that the network is generated by *homophilic selection* because outgoing edges tend to have the same color as the source node. \n",
    "\n",
    "Let us compute the number of agents that are influenced by the most influential agent:"
   ]
  },
  {
   "cell_type": "code",
   "execution_count": 7,
   "id": "7dba2a8d",
   "metadata": {},
   "outputs": [
    {
     "name": "stdout",
     "output_type": "stream",
     "text": [
      "Node 92 has the most influence: they influence 48 others!\n"
     ]
    }
   ],
   "source": [
    "max_in_degree = sorted(community.network.in_degree, key=lambda x: x[1], reverse=True)[0]\n",
    "print(f\"Node {max_in_degree[0]} has the most influence: they influence {max_in_degree[1]} others!\")"
   ]
  },
  {
   "cell_type": "markdown",
   "id": "d095bb14",
   "metadata": {},
   "source": [
    "### 2.1 Opinions and social influence\n",
    "In the first stage, the agents form their own individual opinion. Agent $i$'s individual competence $p_i$ expresses the probability that she forms the right opinion, i.e., that her beliefs about the alternative that is in her own best interest is *correct*. The color of the *nodes* represents whether their **opinion** favours the alternative that is in the best interest of the <font color=\"#FFC107\">elites</font> or <font color=\"#9C27B0\">masses</font>.\n",
    "\n",
    "In the second stage, the agents form their voting decision. Agent $i$'s voting decision is determined by her own opinion and the opinions of the agents in her social environment $S_i$. A node's (outgoing) *edges* represents its **social environment** and the colors of the *edges* represent the opinions of the target nodes.  \n",
    "\n",
    "Let's see how this goes in the complex community. Did anyone form the wrong opinion? Can you figure out why? Can you predict some of the voting decisions?"
   ]
  },
  {
   "cell_type": "code",
   "execution_count": 8,
   "id": "cd37a875",
   "metadata": {},
   "outputs": [
    {
     "name": "stdout",
     "output_type": "stream",
     "text": [
      "www/community_complex_opinions.html\n"
     ]
    },
    {
     "data": {
      "text/html": [
       "\n",
       "        <iframe\n",
       "            width=\"100%\"\n",
       "            height=\"500px\"\n",
       "            src=\"www/community_complex_opinions.html\"\n",
       "            frameborder=\"0\"\n",
       "            allowfullscreen\n",
       "            \n",
       "        ></iframe>\n",
       "        "
      ],
      "text/plain": [
       "<IPython.lib.display.IFrame at 0x18a9d6c5070>"
      ]
     },
     "execution_count": 8,
     "metadata": {},
     "output_type": "execute_result"
    }
   ],
   "source": [
    "visualize(com=community, color_type=\"opinion\").show(\"www/community_complex_opinions.html\")"
   ]
  },
  {
   "cell_type": "markdown",
   "id": "afdf4ead",
   "metadata": {},
   "source": [
    "Given the size of the community, it is hard to see the distribution of opinions, so let's compute this:"
   ]
  },
  {
   "cell_type": "code",
   "execution_count": 9,
   "id": "aaa6955e",
   "metadata": {},
   "outputs": [
    {
     "name": "stdout",
     "output_type": "stream",
     "text": [
      "Opinions: Elites: 52 | Masses: 48\n"
     ]
    }
   ],
   "source": [
    "opinions_for_elites = sum(\n",
    "    [1 for node in community.nodes if community.network.nodes[node][\"opinion\"] == vote_for_elites]\n",
    ")\n",
    "opinion_for_masses = community.number_of_nodes - opinions_for_elites\n",
    "print(f\"Opinions: Elites: {opinions_for_elites} | Masses: {opinion_for_masses}\")"
   ]
  },
  {
   "cell_type": "markdown",
   "id": "ef23568c",
   "metadata": {},
   "source": [
    "### 2.2 Voting decisions\n",
    "Let us represent the voting decisions of the agents in this complex community. The color of the *nodes* represents whether their **vote** favours the alternative that is in the best interest of the <font color=\"#FFC107\">elites</font> or <font color=\"#9C27B0\">masses</font>.\n",
    "\n",
    "Let's see how this goes in the complex community. Did anyone form the wrong voting decision? Can you figure out why?"
   ]
  },
  {
   "cell_type": "code",
   "execution_count": 10,
   "id": "4e94a9af",
   "metadata": {},
   "outputs": [
    {
     "name": "stdout",
     "output_type": "stream",
     "text": [
      "www/community_complex_votes.html\n"
     ]
    },
    {
     "data": {
      "text/html": [
       "\n",
       "        <iframe\n",
       "            width=\"100%\"\n",
       "            height=\"500px\"\n",
       "            src=\"www/community_complex_votes.html\"\n",
       "            frameborder=\"0\"\n",
       "            allowfullscreen\n",
       "            \n",
       "        ></iframe>\n",
       "        "
      ],
      "text/plain": [
       "<IPython.lib.display.IFrame at 0x18a9d65aee0>"
      ]
     },
     "execution_count": 10,
     "metadata": {},
     "output_type": "execute_result"
    }
   ],
   "source": [
    "visualize(com=community, color_type=\"vote\").show(\"www/community_complex_votes.html\")"
   ]
  },
  {
   "cell_type": "markdown",
   "id": "9b2910e2",
   "metadata": {},
   "source": [
    "### 2.3 The vote\n",
    "The outcome is probably no surprise to you at this point, but let's see the distribution of the votes:"
   ]
  },
  {
   "cell_type": "code",
   "execution_count": 11,
   "id": "1e105b36",
   "metadata": {},
   "outputs": [
    {
     "name": "stdout",
     "output_type": "stream",
     "text": [
      "Votes: Elites: 57 | Masses: 43\n"
     ]
    }
   ],
   "source": [
    "votes_for_elites = sum(\n",
    "    [1 for node in community.nodes if community.network.nodes[node][\"vote\"] == vote_for_elites]\n",
    ")\n",
    "votes_for_masses = community.number_of_nodes - votes_for_elites\n",
    "print(f\"Votes: Elites: {votes_for_elites} | Masses: {votes_for_masses}\")"
   ]
  },
  {
   "cell_type": "markdown",
   "id": "6d62c2df",
   "metadata": {},
   "source": [
    "Let's take a step back and see how the distribution changed from the initial distribution of elites and masses via the intermediate distribution of opinions to the final distribution of votes:"
   ]
  },
  {
   "cell_type": "code",
   "execution_count": 12,
   "id": "73a25563",
   "metadata": {},
   "outputs": [
    {
     "name": "stdout",
     "output_type": "stream",
     "text": [
      "Initial distribution: Elites: 30 | Masses: 70\n",
      "Opinion distribution: Elites: 52 | Masses: 48\n",
      "Votes distribition: Elites: 57 | Masses: 43\n"
     ]
    }
   ],
   "source": [
    "print(f\"Initial distribution: Elites: {community.number_of_elites} | Masses: {community.number_of_mass}\\n\"\n",
    "     f\"Opinion distribution: Elites: {opinions_for_elites} | Masses: {opinion_for_masses}\\n\"\n",
    "     f\"Votes distribition: Elites: {votes_for_elites} | Masses: {votes_for_masses}\")"
   ]
  },
  {
   "cell_type": "markdown",
   "id": "9f631a77",
   "metadata": {},
   "source": [
    "## 3. Thanks\n",
    "I hope this brief illustration helped to understand the inner workings of the agent-based model of majority voting. Thanks for showing interest!"
   ]
  }
 ],
 "metadata": {
  "kernelspec": {
   "display_name": "Python 3 (ipykernel)",
   "language": "python",
   "name": "python3"
  },
  "language_info": {
   "codemirror_mode": {
    "name": "ipython",
    "version": 3
   },
   "file_extension": ".py",
   "mimetype": "text/x-python",
   "name": "python",
   "nbconvert_exporter": "python",
   "pygments_lexer": "ipython3",
   "version": "3.9.10"
  }
 },
 "nbformat": 4,
 "nbformat_minor": 5
}
